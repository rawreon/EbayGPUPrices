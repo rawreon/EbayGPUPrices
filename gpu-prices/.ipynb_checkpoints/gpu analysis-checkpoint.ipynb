{
 "cells": [
  {
   "cell_type": "markdown",
   "metadata": {},
   "source": [
    "# Price Analysis of Reference GPUs\n"
   ]
  },
  {
   "cell_type": "markdown",
   "metadata": {},
   "source": [
    "## Data collected 10/19/21\n"
   ]
  },
  {
   "cell_type": "code",
   "execution_count": 52,
   "metadata": {},
   "outputs": [],
   "source": [
    "import os\n",
    "import pandas as pd\n",
    "import matplotlib.pyplot as plt\n",
    "from datetime import datetime\n",
    "from plotnine import ggplot, aes, geom_sina, geom_point, geom_violin, coord_flip, coord_cartesian, xlim"
   ]
  },
  {
   "cell_type": "code",
   "execution_count": 2,
   "metadata": {},
   "outputs": [
    {
     "name": "stdout",
     "output_type": "stream",
     "text": [
      "C:\\Users\\2018Wei\\OneDrive - University of North Carolina at Chapel Hill\\gpu-prices\\data\n"
     ]
    }
   ],
   "source": [
    "cwd = os.path.abspath('C:/Users/2018Wei/OneDrive - University of North Carolina at Chapel Hill/gpu-prices/data')\n",
    "os.chdir(cwd)\n",
    "print(os.getcwd())"
   ]
  },
  {
   "cell_type": "code",
   "execution_count": 3,
   "metadata": {},
   "outputs": [],
   "source": [
    "files = os.listdir(cwd)"
   ]
  },
  {
   "cell_type": "markdown",
   "metadata": {},
   "source": [
    "**Since every gpu has its own excel file, loop through every excel file to create one dataframe**"
   ]
  },
  {
   "cell_type": "code",
   "execution_count": 4,
   "metadata": {},
   "outputs": [],
   "source": [
    "df_total = pd.DataFrame()\n",
    "for file in files:\n",
    "    if file.endswith('.xlsx'):\n",
    "        excel_file = pd.ExcelFile(file)\n",
    "        sheets = excel_file.sheet_names\n",
    "        for sheet in sheets:               # loop through sheets inside an Excel file\n",
    "            df = excel_file.parse(sheet_name = sheet)\n",
    "            df_total = df_total.append(df)"
   ]
  },
  {
   "cell_type": "code",
   "execution_count": 5,
   "metadata": {},
   "outputs": [
    {
     "data": {
      "text/plain": [
       "array(['amd 6700 xt', 'amd 6800', 'amd 6800 xt', 'amd 6900 xt',\n",
       "       'gtx 3060 ti', 'gtx 3070', 'gtx 3070 ti', 'gtx 3080',\n",
       "       'gtx 3080 ti', 'gtx 3090'], dtype=object)"
      ]
     },
     "execution_count": 5,
     "metadata": {},
     "output_type": "execute_result"
    }
   ],
   "source": [
    "df_total.card.unique()"
   ]
  },
  {
   "cell_type": "markdown",
   "metadata": {},
   "source": [
    "**For this project, we only need columns card, date sold, and price so drop the rest**"
   ]
  },
  {
   "cell_type": "code",
   "execution_count": 6,
   "metadata": {},
   "outputs": [
    {
     "data": {
      "text/html": [
       "<div>\n",
       "<style scoped>\n",
       "    .dataframe tbody tr th:only-of-type {\n",
       "        vertical-align: middle;\n",
       "    }\n",
       "\n",
       "    .dataframe tbody tr th {\n",
       "        vertical-align: top;\n",
       "    }\n",
       "\n",
       "    .dataframe thead th {\n",
       "        text-align: right;\n",
       "    }\n",
       "</style>\n",
       "<table border=\"1\" class=\"dataframe\">\n",
       "  <thead>\n",
       "    <tr style=\"text-align: right;\">\n",
       "      <th></th>\n",
       "      <th>card</th>\n",
       "      <th>product title</th>\n",
       "      <th>product url</th>\n",
       "      <th>subtitle1</th>\n",
       "      <th>subtitle2</th>\n",
       "      <th>date sold</th>\n",
       "      <th>price</th>\n",
       "    </tr>\n",
       "  </thead>\n",
       "  <tbody>\n",
       "    <tr>\n",
       "      <th>0</th>\n",
       "      <td>amd 6700 xt</td>\n",
       "      <td>New ListingAMD Radeon RX 6700 XT 12GB GDDR6 Gr...</td>\n",
       "      <td>https://www.ebay.com/itm/334186500440?epid=504...</td>\n",
       "      <td>Brand New · AMD · AMD Radeon RX 6700 XT · 12 GB</td>\n",
       "      <td>NaN</td>\n",
       "      <td>Oct 19, 2021</td>\n",
       "      <td>$900.00</td>\n",
       "    </tr>\n",
       "    <tr>\n",
       "      <th>1</th>\n",
       "      <td>amd 6700 xt</td>\n",
       "      <td>New ListingAMD Radeon RX 6700 XT 12GB Graphics...</td>\n",
       "      <td>https://www.ebay.com/itm/224652615904?epid=504...</td>\n",
       "      <td>Brand New · AMD · AMD Radeon RX 6700 XT · 12 GB</td>\n",
       "      <td>NaN</td>\n",
       "      <td>Oct 19, 2021</td>\n",
       "      <td>$825.00</td>\n",
       "    </tr>\n",
       "    <tr>\n",
       "      <th>2</th>\n",
       "      <td>amd 6700 xt</td>\n",
       "      <td>New ListingAMD Radeon RX 6700 XT 12GB GDDR6 Gr...</td>\n",
       "      <td>https://www.ebay.com/itm/313717565151?epid=504...</td>\n",
       "      <td>Brand New · AMD · AMD Radeon RX 6700 XT · 12 GB</td>\n",
       "      <td>NaN</td>\n",
       "      <td>Oct 19, 2021</td>\n",
       "      <td>$849.99</td>\n",
       "    </tr>\n",
       "    <tr>\n",
       "      <th>3</th>\n",
       "      <td>amd 6700 xt</td>\n",
       "      <td>New ListingAMD Radeon RX 6700 XT 12GB GDDR6 Gr...</td>\n",
       "      <td>https://www.ebay.com/itm/224652871378?epid=160...</td>\n",
       "      <td>Brand New · AMD · AMD Radeon RX 6700 XT · 12 GB</td>\n",
       "      <td>NaN</td>\n",
       "      <td>Oct 19, 2021</td>\n",
       "      <td>$850.00</td>\n",
       "    </tr>\n",
       "    <tr>\n",
       "      <th>4</th>\n",
       "      <td>amd 6700 xt</td>\n",
       "      <td>AMD Radeon RX 6700 XT 12GB GDDR6 Graphics Card...</td>\n",
       "      <td>https://www.ebay.com/itm/334186784072?epid=160...</td>\n",
       "      <td>Brand New · AMD · AMD Radeon RX 6700 XT · 12 GB</td>\n",
       "      <td>NaN</td>\n",
       "      <td>Oct 18, 2021</td>\n",
       "      <td>$850.00</td>\n",
       "    </tr>\n",
       "  </tbody>\n",
       "</table>\n",
       "</div>"
      ],
      "text/plain": [
       "          card                                      product title  \\\n",
       "0  amd 6700 xt  New ListingAMD Radeon RX 6700 XT 12GB GDDR6 Gr...   \n",
       "1  amd 6700 xt  New ListingAMD Radeon RX 6700 XT 12GB Graphics...   \n",
       "2  amd 6700 xt  New ListingAMD Radeon RX 6700 XT 12GB GDDR6 Gr...   \n",
       "3  amd 6700 xt  New ListingAMD Radeon RX 6700 XT 12GB GDDR6 Gr...   \n",
       "4  amd 6700 xt  AMD Radeon RX 6700 XT 12GB GDDR6 Graphics Card...   \n",
       "\n",
       "                                         product url  \\\n",
       "0  https://www.ebay.com/itm/334186500440?epid=504...   \n",
       "1  https://www.ebay.com/itm/224652615904?epid=504...   \n",
       "2  https://www.ebay.com/itm/313717565151?epid=504...   \n",
       "3  https://www.ebay.com/itm/224652871378?epid=160...   \n",
       "4  https://www.ebay.com/itm/334186784072?epid=160...   \n",
       "\n",
       "                                         subtitle1 subtitle2      date sold  \\\n",
       "0  Brand New · AMD · AMD Radeon RX 6700 XT · 12 GB       NaN   Oct 19, 2021   \n",
       "1  Brand New · AMD · AMD Radeon RX 6700 XT · 12 GB       NaN   Oct 19, 2021   \n",
       "2  Brand New · AMD · AMD Radeon RX 6700 XT · 12 GB       NaN   Oct 19, 2021   \n",
       "3  Brand New · AMD · AMD Radeon RX 6700 XT · 12 GB       NaN   Oct 19, 2021   \n",
       "4  Brand New · AMD · AMD Radeon RX 6700 XT · 12 GB       NaN   Oct 18, 2021   \n",
       "\n",
       "     price  \n",
       "0  $900.00  \n",
       "1  $825.00  \n",
       "2  $849.99  \n",
       "3  $850.00  \n",
       "4  $850.00  "
      ]
     },
     "execution_count": 6,
     "metadata": {},
     "output_type": "execute_result"
    }
   ],
   "source": [
    "df_total.head()"
   ]
  },
  {
   "cell_type": "code",
   "execution_count": 7,
   "metadata": {},
   "outputs": [],
   "source": [
    "gpu_df = df_total.drop(columns = ['product title', 'product url', 'subtitle1', 'subtitle2'])"
   ]
  },
  {
   "cell_type": "code",
   "execution_count": 8,
   "metadata": {},
   "outputs": [
    {
     "data": {
      "text/html": [
       "<div>\n",
       "<style scoped>\n",
       "    .dataframe tbody tr th:only-of-type {\n",
       "        vertical-align: middle;\n",
       "    }\n",
       "\n",
       "    .dataframe tbody tr th {\n",
       "        vertical-align: top;\n",
       "    }\n",
       "\n",
       "    .dataframe thead th {\n",
       "        text-align: right;\n",
       "    }\n",
       "</style>\n",
       "<table border=\"1\" class=\"dataframe\">\n",
       "  <thead>\n",
       "    <tr style=\"text-align: right;\">\n",
       "      <th></th>\n",
       "      <th>card</th>\n",
       "      <th>date sold</th>\n",
       "      <th>price</th>\n",
       "    </tr>\n",
       "  </thead>\n",
       "  <tbody>\n",
       "    <tr>\n",
       "      <th>0</th>\n",
       "      <td>amd 6700 xt</td>\n",
       "      <td>Oct 19, 2021</td>\n",
       "      <td>$900.00</td>\n",
       "    </tr>\n",
       "    <tr>\n",
       "      <th>1</th>\n",
       "      <td>amd 6700 xt</td>\n",
       "      <td>Oct 19, 2021</td>\n",
       "      <td>$825.00</td>\n",
       "    </tr>\n",
       "    <tr>\n",
       "      <th>2</th>\n",
       "      <td>amd 6700 xt</td>\n",
       "      <td>Oct 19, 2021</td>\n",
       "      <td>$849.99</td>\n",
       "    </tr>\n",
       "    <tr>\n",
       "      <th>3</th>\n",
       "      <td>amd 6700 xt</td>\n",
       "      <td>Oct 19, 2021</td>\n",
       "      <td>$850.00</td>\n",
       "    </tr>\n",
       "    <tr>\n",
       "      <th>4</th>\n",
       "      <td>amd 6700 xt</td>\n",
       "      <td>Oct 18, 2021</td>\n",
       "      <td>$850.00</td>\n",
       "    </tr>\n",
       "    <tr>\n",
       "      <th>...</th>\n",
       "      <td>...</td>\n",
       "      <td>...</td>\n",
       "      <td>...</td>\n",
       "    </tr>\n",
       "    <tr>\n",
       "      <th>1395</th>\n",
       "      <td>gtx 3090</td>\n",
       "      <td>Jul 22, 2021</td>\n",
       "      <td>$2,100.00</td>\n",
       "    </tr>\n",
       "    <tr>\n",
       "      <th>1396</th>\n",
       "      <td>gtx 3090</td>\n",
       "      <td>Jul 21, 2021</td>\n",
       "      <td>$2,100.00</td>\n",
       "    </tr>\n",
       "    <tr>\n",
       "      <th>1397</th>\n",
       "      <td>gtx 3090</td>\n",
       "      <td>Jul 21, 2021</td>\n",
       "      <td>$1,999.00</td>\n",
       "    </tr>\n",
       "    <tr>\n",
       "      <th>1398</th>\n",
       "      <td>gtx 3090</td>\n",
       "      <td>Jul 21, 2021</td>\n",
       "      <td>$2,089.99</td>\n",
       "    </tr>\n",
       "    <tr>\n",
       "      <th>1399</th>\n",
       "      <td>gtx 3090</td>\n",
       "      <td>Jul 21, 2021</td>\n",
       "      <td>$2,076.00</td>\n",
       "    </tr>\n",
       "  </tbody>\n",
       "</table>\n",
       "<p>7376 rows × 3 columns</p>\n",
       "</div>"
      ],
      "text/plain": [
       "             card      date sold      price\n",
       "0     amd 6700 xt   Oct 19, 2021    $900.00\n",
       "1     amd 6700 xt   Oct 19, 2021    $825.00\n",
       "2     amd 6700 xt   Oct 19, 2021    $849.99\n",
       "3     amd 6700 xt   Oct 19, 2021    $850.00\n",
       "4     amd 6700 xt   Oct 18, 2021    $850.00\n",
       "...           ...            ...        ...\n",
       "1395     gtx 3090   Jul 22, 2021  $2,100.00\n",
       "1396     gtx 3090   Jul 21, 2021  $2,100.00\n",
       "1397     gtx 3090   Jul 21, 2021  $1,999.00\n",
       "1398     gtx 3090   Jul 21, 2021  $2,089.99\n",
       "1399     gtx 3090   Jul 21, 2021  $2,076.00\n",
       "\n",
       "[7376 rows x 3 columns]"
      ]
     },
     "execution_count": 8,
     "metadata": {},
     "output_type": "execute_result"
    }
   ],
   "source": [
    "gpu_df"
   ]
  },
  {
   "cell_type": "markdown",
   "metadata": {},
   "source": [
    "**After obtaining our final set of columns, want to make sure that each column is the right data type. We wannt date sold to be datetime and price to be type float. The column card is fine as a string.**\n"
   ]
  },
  {
   "cell_type": "markdown",
   "metadata": {},
   "source": [
    "gpu.dtypes"
   ]
  },
  {
   "cell_type": "code",
   "execution_count": 9,
   "metadata": {},
   "outputs": [],
   "source": [
    "gpu_df = gpu_df.convert_dtypes()"
   ]
  },
  {
   "cell_type": "code",
   "execution_count": 10,
   "metadata": {},
   "outputs": [
    {
     "data": {
      "text/plain": [
       "card         string\n",
       "date sold    string\n",
       "price        string\n",
       "dtype: object"
      ]
     },
     "execution_count": 10,
     "metadata": {},
     "output_type": "execute_result"
    }
   ],
   "source": [
    "gpu_df.dtypes"
   ]
  },
  {
   "cell_type": "code",
   "execution_count": 11,
   "metadata": {},
   "outputs": [
    {
     "data": {
      "text/html": [
       "<div>\n",
       "<style scoped>\n",
       "    .dataframe tbody tr th:only-of-type {\n",
       "        vertical-align: middle;\n",
       "    }\n",
       "\n",
       "    .dataframe tbody tr th {\n",
       "        vertical-align: top;\n",
       "    }\n",
       "\n",
       "    .dataframe thead th {\n",
       "        text-align: right;\n",
       "    }\n",
       "</style>\n",
       "<table border=\"1\" class=\"dataframe\">\n",
       "  <thead>\n",
       "    <tr style=\"text-align: right;\">\n",
       "      <th></th>\n",
       "      <th>card</th>\n",
       "      <th>date sold</th>\n",
       "      <th>price</th>\n",
       "    </tr>\n",
       "  </thead>\n",
       "  <tbody>\n",
       "    <tr>\n",
       "      <th>0</th>\n",
       "      <td>amd 6700 xt</td>\n",
       "      <td>Oct 19, 2021</td>\n",
       "      <td>$900.00</td>\n",
       "    </tr>\n",
       "    <tr>\n",
       "      <th>1</th>\n",
       "      <td>amd 6700 xt</td>\n",
       "      <td>Oct 19, 2021</td>\n",
       "      <td>$825.00</td>\n",
       "    </tr>\n",
       "    <tr>\n",
       "      <th>2</th>\n",
       "      <td>amd 6700 xt</td>\n",
       "      <td>Oct 19, 2021</td>\n",
       "      <td>$849.99</td>\n",
       "    </tr>\n",
       "    <tr>\n",
       "      <th>3</th>\n",
       "      <td>amd 6700 xt</td>\n",
       "      <td>Oct 19, 2021</td>\n",
       "      <td>$850.00</td>\n",
       "    </tr>\n",
       "    <tr>\n",
       "      <th>4</th>\n",
       "      <td>amd 6700 xt</td>\n",
       "      <td>Oct 18, 2021</td>\n",
       "      <td>$850.00</td>\n",
       "    </tr>\n",
       "    <tr>\n",
       "      <th>...</th>\n",
       "      <td>...</td>\n",
       "      <td>...</td>\n",
       "      <td>...</td>\n",
       "    </tr>\n",
       "    <tr>\n",
       "      <th>940</th>\n",
       "      <td>amd 6700 xt</td>\n",
       "      <td>Jul 22, 2021</td>\n",
       "      <td>$699.99</td>\n",
       "    </tr>\n",
       "    <tr>\n",
       "      <th>941</th>\n",
       "      <td>amd 6700 xt</td>\n",
       "      <td>Jul 22, 2021</td>\n",
       "      <td>$749.98</td>\n",
       "    </tr>\n",
       "    <tr>\n",
       "      <th>942</th>\n",
       "      <td>amd 6700 xt</td>\n",
       "      <td>Jul 22, 2021</td>\n",
       "      <td>$839.50</td>\n",
       "    </tr>\n",
       "    <tr>\n",
       "      <th>943</th>\n",
       "      <td>amd 6700 xt</td>\n",
       "      <td>Jul 22, 2021</td>\n",
       "      <td>$700.00</td>\n",
       "    </tr>\n",
       "    <tr>\n",
       "      <th>944</th>\n",
       "      <td>amd 6700 xt</td>\n",
       "      <td>Jul 21, 2021</td>\n",
       "      <td>$799.53</td>\n",
       "    </tr>\n",
       "  </tbody>\n",
       "</table>\n",
       "<p>945 rows × 3 columns</p>\n",
       "</div>"
      ],
      "text/plain": [
       "            card      date sold    price\n",
       "0    amd 6700 xt   Oct 19, 2021  $900.00\n",
       "1    amd 6700 xt   Oct 19, 2021  $825.00\n",
       "2    amd 6700 xt   Oct 19, 2021  $849.99\n",
       "3    amd 6700 xt   Oct 19, 2021  $850.00\n",
       "4    amd 6700 xt   Oct 18, 2021  $850.00\n",
       "..           ...            ...      ...\n",
       "940  amd 6700 xt   Jul 22, 2021  $699.99\n",
       "941  amd 6700 xt   Jul 22, 2021  $749.98\n",
       "942  amd 6700 xt   Jul 22, 2021  $839.50\n",
       "943  amd 6700 xt   Jul 22, 2021  $700.00\n",
       "944  amd 6700 xt   Jul 21, 2021  $799.53\n",
       "\n",
       "[945 rows x 3 columns]"
      ]
     },
     "execution_count": 11,
     "metadata": {},
     "output_type": "execute_result"
    }
   ],
   "source": [
    "gpu_df[gpu_df['card'] == 'amd 6700 xt']"
   ]
  },
  {
   "cell_type": "code",
   "execution_count": 12,
   "metadata": {},
   "outputs": [
    {
     "name": "stderr",
     "output_type": "stream",
     "text": [
      "<ipython-input-12-9344ef306cce>:1: FutureWarning: The default value of regex will change from True to False in a future version. In addition, single character regular expressions will *not* be treated as literal strings when regex=True.\n"
     ]
    }
   ],
   "source": [
    "gpu_df['price'] = gpu_df['price'].str.replace(',', '').str.replace('$', '').astype(float)"
   ]
  },
  {
   "cell_type": "code",
   "execution_count": 13,
   "metadata": {},
   "outputs": [
    {
     "data": {
      "text/plain": [
       "0        900.00\n",
       "1        825.00\n",
       "2        849.99\n",
       "3        850.00\n",
       "4        850.00\n",
       "         ...   \n",
       "1395    2100.00\n",
       "1396    2100.00\n",
       "1397    1999.00\n",
       "1398    2089.99\n",
       "1399    2076.00\n",
       "Name: price, Length: 7376, dtype: float64"
      ]
     },
     "execution_count": 13,
     "metadata": {},
     "output_type": "execute_result"
    }
   ],
   "source": [
    "gpu_df['price']"
   ]
  },
  {
   "cell_type": "code",
   "execution_count": 14,
   "metadata": {},
   "outputs": [
    {
     "data": {
      "text/plain": [
       "card          string\n",
       "date sold     string\n",
       "price        float64\n",
       "dtype: object"
      ]
     },
     "execution_count": 14,
     "metadata": {},
     "output_type": "execute_result"
    }
   ],
   "source": [
    "gpu_df.dtypes"
   ]
  },
  {
   "cell_type": "code",
   "execution_count": 15,
   "metadata": {},
   "outputs": [],
   "source": [
    "gpu_df['date sold'] = pd.to_datetime(df['date sold'])"
   ]
  },
  {
   "cell_type": "code",
   "execution_count": 16,
   "metadata": {},
   "outputs": [
    {
     "data": {
      "text/plain": [
       "card                 string\n",
       "date sold    datetime64[ns]\n",
       "price               float64\n",
       "dtype: object"
      ]
     },
     "execution_count": 16,
     "metadata": {},
     "output_type": "execute_result"
    }
   ],
   "source": [
    "gpu_df.dtypes"
   ]
  },
  {
   "cell_type": "markdown",
   "metadata": {},
   "source": [
    "**Now we look for outliers. There are some obviously not real sale prices, such as a gtxo 3060 ti for a dollar, so I want to remove those as they add nothing to my analysis**\n"
   ]
  },
  {
   "cell_type": "code",
   "execution_count": 23,
   "metadata": {},
   "outputs": [
    {
     "data": {
      "text/html": [
       "<div>\n",
       "<style scoped>\n",
       "    .dataframe tbody tr th:only-of-type {\n",
       "        vertical-align: middle;\n",
       "    }\n",
       "\n",
       "    .dataframe tbody tr th {\n",
       "        vertical-align: top;\n",
       "    }\n",
       "\n",
       "    .dataframe thead th {\n",
       "        text-align: right;\n",
       "    }\n",
       "</style>\n",
       "<table border=\"1\" class=\"dataframe\">\n",
       "  <thead>\n",
       "    <tr style=\"text-align: right;\">\n",
       "      <th></th>\n",
       "      <th>card</th>\n",
       "      <th>date sold</th>\n",
       "      <th>price</th>\n",
       "    </tr>\n",
       "  </thead>\n",
       "  <tbody>\n",
       "    <tr>\n",
       "      <th>0</th>\n",
       "      <td>amd 6700 xt</td>\n",
       "      <td>2021-10-19</td>\n",
       "      <td>900.00</td>\n",
       "    </tr>\n",
       "    <tr>\n",
       "      <th>1</th>\n",
       "      <td>amd 6700 xt</td>\n",
       "      <td>2021-10-19</td>\n",
       "      <td>825.00</td>\n",
       "    </tr>\n",
       "    <tr>\n",
       "      <th>2</th>\n",
       "      <td>amd 6700 xt</td>\n",
       "      <td>2021-10-19</td>\n",
       "      <td>849.99</td>\n",
       "    </tr>\n",
       "    <tr>\n",
       "      <th>3</th>\n",
       "      <td>amd 6700 xt</td>\n",
       "      <td>2021-10-19</td>\n",
       "      <td>850.00</td>\n",
       "    </tr>\n",
       "    <tr>\n",
       "      <th>4</th>\n",
       "      <td>amd 6700 xt</td>\n",
       "      <td>2021-10-19</td>\n",
       "      <td>850.00</td>\n",
       "    </tr>\n",
       "    <tr>\n",
       "      <th>...</th>\n",
       "      <td>...</td>\n",
       "      <td>...</td>\n",
       "      <td>...</td>\n",
       "    </tr>\n",
       "    <tr>\n",
       "      <th>1395</th>\n",
       "      <td>gtx 3090</td>\n",
       "      <td>2021-07-22</td>\n",
       "      <td>2100.00</td>\n",
       "    </tr>\n",
       "    <tr>\n",
       "      <th>1396</th>\n",
       "      <td>gtx 3090</td>\n",
       "      <td>2021-07-21</td>\n",
       "      <td>2100.00</td>\n",
       "    </tr>\n",
       "    <tr>\n",
       "      <th>1397</th>\n",
       "      <td>gtx 3090</td>\n",
       "      <td>2021-07-21</td>\n",
       "      <td>1999.00</td>\n",
       "    </tr>\n",
       "    <tr>\n",
       "      <th>1398</th>\n",
       "      <td>gtx 3090</td>\n",
       "      <td>2021-07-21</td>\n",
       "      <td>2089.99</td>\n",
       "    </tr>\n",
       "    <tr>\n",
       "      <th>1399</th>\n",
       "      <td>gtx 3090</td>\n",
       "      <td>2021-07-21</td>\n",
       "      <td>2076.00</td>\n",
       "    </tr>\n",
       "  </tbody>\n",
       "</table>\n",
       "<p>7376 rows × 3 columns</p>\n",
       "</div>"
      ],
      "text/plain": [
       "             card  date sold    price\n",
       "0     amd 6700 xt 2021-10-19   900.00\n",
       "1     amd 6700 xt 2021-10-19   825.00\n",
       "2     amd 6700 xt 2021-10-19   849.99\n",
       "3     amd 6700 xt 2021-10-19   850.00\n",
       "4     amd 6700 xt 2021-10-19   850.00\n",
       "...           ...        ...      ...\n",
       "1395     gtx 3090 2021-07-22  2100.00\n",
       "1396     gtx 3090 2021-07-21  2100.00\n",
       "1397     gtx 3090 2021-07-21  1999.00\n",
       "1398     gtx 3090 2021-07-21  2089.99\n",
       "1399     gtx 3090 2021-07-21  2076.00\n",
       "\n",
       "[7376 rows x 3 columns]"
      ]
     },
     "execution_count": 23,
     "metadata": {},
     "output_type": "execute_result"
    }
   ],
   "source": [
    "gpu_df"
   ]
  },
  {
   "cell_type": "code",
   "execution_count": 57,
   "metadata": {},
   "outputs": [],
   "source": [
    "gpu_df.to_csv('gpus.csv')"
   ]
  }
 ],
 "metadata": {
  "kernelspec": {
   "display_name": "Python 3",
   "language": "python",
   "name": "python3"
  },
  "language_info": {
   "codemirror_mode": {
    "name": "ipython",
    "version": 3
   },
   "file_extension": ".py",
   "mimetype": "text/x-python",
   "name": "python",
   "nbconvert_exporter": "python",
   "pygments_lexer": "ipython3",
   "version": "3.8.3"
  }
 },
 "nbformat": 4,
 "nbformat_minor": 4
}
